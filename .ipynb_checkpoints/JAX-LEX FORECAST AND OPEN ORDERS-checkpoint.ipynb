{
 "cells": [
  {
   "cell_type": "markdown",
   "metadata": {},
   "source": [
    "![oracle image](https://assets.stickpng.com/thumbs/584817d6cef1014c0b5e4999.png)"
   ]
  },
  {
   "cell_type": "markdown",
   "metadata": {},
   "source": [
    "## Oracle \n",
    "--- \n",
    "Forecast - Forms\n",
    "1.  Export Jax forecast, save as JAX FC.csv in Resources folder.\n",
    "2.  Export Lex forecast, save as LEX FC.csv in Resources folder.\n",
    "\n",
    "---\n",
    "Open Orders - All WABCUST Reports, WABCUST YTS OPEN ORDER REPORT - XML\n",
    "\n",
    "3.  Org ID - Jax, Exclude order type:  YTS - Internal Orders, save as JAX OPEN ORDERS.csv in Resources folder.\n",
    "4.  Org ID - Lex, Exclude order type:  YTS - Internal Orders, save as LEX OPEN ORDERS.csv in Resources folder.\n"
   ]
  },
  {
   "cell_type": "code",
   "execution_count": 1,
   "metadata": {},
   "outputs": [],
   "source": [
    "# Import libraries\n",
    "import pandas as pd\n",
    "#from pandas import ExcelWriter\n",
    "#from pandas import ExcelFile\n",
    "#import datetime\n",
    "#import matplotlib as plt\n",
    "import numpy as np"
   ]
  },
  {
   "cell_type": "markdown",
   "metadata": {},
   "source": [
    "## Jax forecast clean up"
   ]
  },
  {
   "cell_type": "code",
   "execution_count": 3,
   "metadata": {},
   "outputs": [
    {
     "data": {
      "text/html": [
       "<div>\n",
       "<style scoped>\n",
       "    .dataframe tbody tr th:only-of-type {\n",
       "        vertical-align: middle;\n",
       "    }\n",
       "\n",
       "    .dataframe tbody tr th {\n",
       "        vertical-align: top;\n",
       "    }\n",
       "\n",
       "    .dataframe thead th {\n",
       "        text-align: right;\n",
       "    }\n",
       "</style>\n",
       "<table border=\"1\" class=\"dataframe\">\n",
       "  <thead>\n",
       "    <tr style=\"text-align: right;\">\n",
       "      <th></th>\n",
       "      <th>Bucket</th>\n",
       "      <th>Date</th>\n",
       "      <th>End Date</th>\n",
       "      <th>Number of Buckets</th>\n",
       "      <th>Current</th>\n",
       "      <th>Original</th>\n",
       "      <th>Total</th>\n",
       "      <th>Confidence(%)</th>\n",
       "      <th>Project Number</th>\n",
       "      <th>Unnamed: 10</th>\n",
       "      <th>Task Number</th>\n",
       "      <th>Line</th>\n",
       "      <th>Comment</th>\n",
       "      <th>Forecast</th>\n",
       "      <th>[  ]</th>\n",
       "    </tr>\n",
       "    <tr>\n",
       "      <th>Item</th>\n",
       "      <th></th>\n",
       "      <th></th>\n",
       "      <th></th>\n",
       "      <th></th>\n",
       "      <th></th>\n",
       "      <th></th>\n",
       "      <th></th>\n",
       "      <th></th>\n",
       "      <th></th>\n",
       "      <th></th>\n",
       "      <th></th>\n",
       "      <th></th>\n",
       "      <th></th>\n",
       "      <th></th>\n",
       "      <th></th>\n",
       "    </tr>\n",
       "  </thead>\n",
       "  <tbody>\n",
       "    <tr>\n",
       "      <th>YT04906-089.50</th>\n",
       "      <td>Days</td>\n",
       "      <td>3/16/2021</td>\n",
       "      <td>NaN</td>\n",
       "      <td>1</td>\n",
       "      <td>22</td>\n",
       "      <td>22</td>\n",
       "      <td>22</td>\n",
       "      <td>100</td>\n",
       "      <td>NaN</td>\n",
       "      <td>NaN</td>\n",
       "      <td>NaN</td>\n",
       "      <td>NaN</td>\n",
       "      <td>CAT 41.00</td>\n",
       "      <td>JAX-FCST</td>\n",
       "      <td>.</td>\n",
       "    </tr>\n",
       "    <tr>\n",
       "      <th>YT04906-089.50</th>\n",
       "      <td>Days</td>\n",
       "      <td>4/20/2021</td>\n",
       "      <td>NaN</td>\n",
       "      <td>1</td>\n",
       "      <td>33</td>\n",
       "      <td>33</td>\n",
       "      <td>33</td>\n",
       "      <td>100</td>\n",
       "      <td>NaN</td>\n",
       "      <td>NaN</td>\n",
       "      <td>NaN</td>\n",
       "      <td>NaN</td>\n",
       "      <td>CAT 41.00</td>\n",
       "      <td>JAX-FCST</td>\n",
       "      <td>.</td>\n",
       "    </tr>\n",
       "    <tr>\n",
       "      <th>YT04906-089.50</th>\n",
       "      <td>Days</td>\n",
       "      <td>5/18/2021</td>\n",
       "      <td>NaN</td>\n",
       "      <td>1</td>\n",
       "      <td>21</td>\n",
       "      <td>21</td>\n",
       "      <td>21</td>\n",
       "      <td>100</td>\n",
       "      <td>NaN</td>\n",
       "      <td>NaN</td>\n",
       "      <td>NaN</td>\n",
       "      <td>NaN</td>\n",
       "      <td>CAT 41.00</td>\n",
       "      <td>JAX-FCST</td>\n",
       "      <td>.</td>\n",
       "    </tr>\n",
       "    <tr>\n",
       "      <th>YT04906-089.50</th>\n",
       "      <td>Days</td>\n",
       "      <td>6/15/2021</td>\n",
       "      <td>NaN</td>\n",
       "      <td>1</td>\n",
       "      <td>58</td>\n",
       "      <td>58</td>\n",
       "      <td>58</td>\n",
       "      <td>100</td>\n",
       "      <td>NaN</td>\n",
       "      <td>NaN</td>\n",
       "      <td>NaN</td>\n",
       "      <td>NaN</td>\n",
       "      <td>CAT 41.00</td>\n",
       "      <td>JAX-FCST</td>\n",
       "      <td>.</td>\n",
       "    </tr>\n",
       "    <tr>\n",
       "      <th>YT04906-089.50</th>\n",
       "      <td>Days</td>\n",
       "      <td>7/20/2021</td>\n",
       "      <td>NaN</td>\n",
       "      <td>1</td>\n",
       "      <td>36</td>\n",
       "      <td>36</td>\n",
       "      <td>36</td>\n",
       "      <td>100</td>\n",
       "      <td>NaN</td>\n",
       "      <td>NaN</td>\n",
       "      <td>NaN</td>\n",
       "      <td>NaN</td>\n",
       "      <td>CAT 41.00</td>\n",
       "      <td>JAX-FCST</td>\n",
       "      <td>.</td>\n",
       "    </tr>\n",
       "  </tbody>\n",
       "</table>\n",
       "</div>"
      ],
      "text/plain": [
       "               Bucket       Date  End Date  Number of Buckets  Current  \\\n",
       "Item                                                                     \n",
       "YT04906-089.50   Days  3/16/2021       NaN                  1       22   \n",
       "YT04906-089.50   Days  4/20/2021       NaN                  1       33   \n",
       "YT04906-089.50   Days  5/18/2021       NaN                  1       21   \n",
       "YT04906-089.50   Days  6/15/2021       NaN                  1       58   \n",
       "YT04906-089.50   Days  7/20/2021       NaN                  1       36   \n",
       "\n",
       "                Original  Total  Confidence(%)  Project Number  Unnamed: 10  \\\n",
       "Item                                                                          \n",
       "YT04906-089.50        22     22            100             NaN          NaN   \n",
       "YT04906-089.50        33     33            100             NaN          NaN   \n",
       "YT04906-089.50        21     21            100             NaN          NaN   \n",
       "YT04906-089.50        58     58            100             NaN          NaN   \n",
       "YT04906-089.50        36     36            100             NaN          NaN   \n",
       "\n",
       "                Task Number  Line    Comment  Forecast [  ]  \n",
       "Item                                                         \n",
       "YT04906-089.50          NaN   NaN  CAT 41.00  JAX-FCST    .  \n",
       "YT04906-089.50          NaN   NaN  CAT 41.00  JAX-FCST    .  \n",
       "YT04906-089.50          NaN   NaN  CAT 41.00  JAX-FCST    .  \n",
       "YT04906-089.50          NaN   NaN  CAT 41.00  JAX-FCST    .  \n",
       "YT04906-089.50          NaN   NaN  CAT 41.00  JAX-FCST    .  "
      ]
     },
     "execution_count": 3,
     "metadata": {},
     "output_type": "execute_result"
    }
   ],
   "source": [
    "# Load jax fc file\n",
    "jax_fc_file = \"Resources/JAX FC.csv\"\n",
    "\n",
    "# Read csv file into DataFrame, set Item as index\n",
    "#jax_fc = pd.read_csv(jax_fc_file, index_col = \"Item\", parse_dates=[\"Date\"])\n",
    "jax_fc = pd.read_csv(jax_fc_file, index_col = \"Item\")\n",
    "jax_fc.head()"
   ]
  },
  {
   "cell_type": "code",
   "execution_count": 4,
   "metadata": {},
   "outputs": [
    {
     "data": {
      "text/html": [
       "<div>\n",
       "<style scoped>\n",
       "    .dataframe tbody tr th:only-of-type {\n",
       "        vertical-align: middle;\n",
       "    }\n",
       "\n",
       "    .dataframe tbody tr th {\n",
       "        vertical-align: top;\n",
       "    }\n",
       "\n",
       "    .dataframe thead th {\n",
       "        text-align: right;\n",
       "    }\n",
       "</style>\n",
       "<table border=\"1\" class=\"dataframe\">\n",
       "  <thead>\n",
       "    <tr style=\"text-align: right;\">\n",
       "      <th></th>\n",
       "      <th>Date</th>\n",
       "      <th>Current</th>\n",
       "      <th>Comment</th>\n",
       "    </tr>\n",
       "    <tr>\n",
       "      <th>Item</th>\n",
       "      <th></th>\n",
       "      <th></th>\n",
       "      <th></th>\n",
       "    </tr>\n",
       "  </thead>\n",
       "  <tbody>\n",
       "    <tr>\n",
       "      <th>YT04906-089.50</th>\n",
       "      <td>3/16/2021</td>\n",
       "      <td>22</td>\n",
       "      <td>CAT 41.00</td>\n",
       "    </tr>\n",
       "    <tr>\n",
       "      <th>YT04906-089.50</th>\n",
       "      <td>4/20/2021</td>\n",
       "      <td>33</td>\n",
       "      <td>CAT 41.00</td>\n",
       "    </tr>\n",
       "    <tr>\n",
       "      <th>YT04906-089.50</th>\n",
       "      <td>5/18/2021</td>\n",
       "      <td>21</td>\n",
       "      <td>CAT 41.00</td>\n",
       "    </tr>\n",
       "    <tr>\n",
       "      <th>YT04906-089.50</th>\n",
       "      <td>6/15/2021</td>\n",
       "      <td>58</td>\n",
       "      <td>CAT 41.00</td>\n",
       "    </tr>\n",
       "    <tr>\n",
       "      <th>YT04906-089.50</th>\n",
       "      <td>7/20/2021</td>\n",
       "      <td>36</td>\n",
       "      <td>CAT 41.00</td>\n",
       "    </tr>\n",
       "  </tbody>\n",
       "</table>\n",
       "</div>"
      ],
      "text/plain": [
       "                     Date  Current    Comment\n",
       "Item                                         \n",
       "YT04906-089.50  3/16/2021       22  CAT 41.00\n",
       "YT04906-089.50  4/20/2021       33  CAT 41.00\n",
       "YT04906-089.50  5/18/2021       21  CAT 41.00\n",
       "YT04906-089.50  6/15/2021       58  CAT 41.00\n",
       "YT04906-089.50  7/20/2021       36  CAT 41.00"
      ]
     },
     "execution_count": 4,
     "metadata": {},
     "output_type": "execute_result"
    }
   ],
   "source": [
    "# Remove extra columns \n",
    "jax_fc = jax_fc[[\"Date\", \"Current\", \"Comment\"]]\n",
    "jax_fc.head()"
   ]
  },
  {
   "cell_type": "code",
   "execution_count": 5,
   "metadata": {},
   "outputs": [
    {
     "data": {
      "text/html": [
       "<div>\n",
       "<style scoped>\n",
       "    .dataframe tbody tr th:only-of-type {\n",
       "        vertical-align: middle;\n",
       "    }\n",
       "\n",
       "    .dataframe tbody tr th {\n",
       "        vertical-align: top;\n",
       "    }\n",
       "\n",
       "    .dataframe thead th {\n",
       "        text-align: right;\n",
       "    }\n",
       "</style>\n",
       "<table border=\"1\" class=\"dataframe\">\n",
       "  <thead>\n",
       "    <tr style=\"text-align: right;\">\n",
       "      <th></th>\n",
       "      <th>0</th>\n",
       "      <th>1</th>\n",
       "    </tr>\n",
       "    <tr>\n",
       "      <th>Item</th>\n",
       "      <th></th>\n",
       "      <th></th>\n",
       "    </tr>\n",
       "  </thead>\n",
       "  <tbody>\n",
       "    <tr>\n",
       "      <th>YT04906-089.50</th>\n",
       "      <td>CAT</td>\n",
       "      <td>41.00</td>\n",
       "    </tr>\n",
       "    <tr>\n",
       "      <th>YT04906-089.50</th>\n",
       "      <td>CAT</td>\n",
       "      <td>41.00</td>\n",
       "    </tr>\n",
       "    <tr>\n",
       "      <th>YT04906-089.50</th>\n",
       "      <td>CAT</td>\n",
       "      <td>41.00</td>\n",
       "    </tr>\n",
       "    <tr>\n",
       "      <th>YT04906-089.50</th>\n",
       "      <td>CAT</td>\n",
       "      <td>41.00</td>\n",
       "    </tr>\n",
       "    <tr>\n",
       "      <th>YT04906-089.50</th>\n",
       "      <td>CAT</td>\n",
       "      <td>41.00</td>\n",
       "    </tr>\n",
       "  </tbody>\n",
       "</table>\n",
       "</div>"
      ],
      "text/plain": [
       "                  0      1\n",
       "Item                      \n",
       "YT04906-089.50  CAT  41.00\n",
       "YT04906-089.50  CAT  41.00\n",
       "YT04906-089.50  CAT  41.00\n",
       "YT04906-089.50  CAT  41.00\n",
       "YT04906-089.50  CAT  41.00"
      ]
     },
     "execution_count": 5,
     "metadata": {},
     "output_type": "execute_result"
    }
   ],
   "source": [
    "# New data frame with split value columns for Comment column \n",
    "new = jax_fc[\"Comment\"].str.split(\" \", n = 1, expand = True) \n",
    "new.head()"
   ]
  },
  {
   "cell_type": "code",
   "execution_count": 6,
   "metadata": {},
   "outputs": [
    {
     "data": {
      "text/html": [
       "<div>\n",
       "<style scoped>\n",
       "    .dataframe tbody tr th:only-of-type {\n",
       "        vertical-align: middle;\n",
       "    }\n",
       "\n",
       "    .dataframe tbody tr th {\n",
       "        vertical-align: top;\n",
       "    }\n",
       "\n",
       "    .dataframe thead th {\n",
       "        text-align: right;\n",
       "    }\n",
       "</style>\n",
       "<table border=\"1\" class=\"dataframe\">\n",
       "  <thead>\n",
       "    <tr style=\"text-align: right;\">\n",
       "      <th></th>\n",
       "      <th>0</th>\n",
       "      <th>1</th>\n",
       "      <th>Customer</th>\n",
       "    </tr>\n",
       "    <tr>\n",
       "      <th>Item</th>\n",
       "      <th></th>\n",
       "      <th></th>\n",
       "      <th></th>\n",
       "    </tr>\n",
       "  </thead>\n",
       "  <tbody>\n",
       "    <tr>\n",
       "      <th>YT04906-089.50</th>\n",
       "      <td>CAT</td>\n",
       "      <td>41.00</td>\n",
       "      <td>CAT</td>\n",
       "    </tr>\n",
       "    <tr>\n",
       "      <th>YT04906-089.50</th>\n",
       "      <td>CAT</td>\n",
       "      <td>41.00</td>\n",
       "      <td>CAT</td>\n",
       "    </tr>\n",
       "    <tr>\n",
       "      <th>YT04906-089.50</th>\n",
       "      <td>CAT</td>\n",
       "      <td>41.00</td>\n",
       "      <td>CAT</td>\n",
       "    </tr>\n",
       "    <tr>\n",
       "      <th>YT04906-089.50</th>\n",
       "      <td>CAT</td>\n",
       "      <td>41.00</td>\n",
       "      <td>CAT</td>\n",
       "    </tr>\n",
       "    <tr>\n",
       "      <th>YT04906-089.50</th>\n",
       "      <td>CAT</td>\n",
       "      <td>41.00</td>\n",
       "      <td>CAT</td>\n",
       "    </tr>\n",
       "  </tbody>\n",
       "</table>\n",
       "</div>"
      ],
      "text/plain": [
       "                  0      1 Customer\n",
       "Item                               \n",
       "YT04906-089.50  CAT  41.00      CAT\n",
       "YT04906-089.50  CAT  41.00      CAT\n",
       "YT04906-089.50  CAT  41.00      CAT\n",
       "YT04906-089.50  CAT  41.00      CAT\n",
       "YT04906-089.50  CAT  41.00      CAT"
      ]
     },
     "execution_count": 6,
     "metadata": {},
     "output_type": "execute_result"
    }
   ],
   "source": [
    "# Make separate Customer column from new data frame \n",
    "new[\"Customer\"]= new[0] \n",
    "new.head()"
   ]
  },
  {
   "cell_type": "code",
   "execution_count": 7,
   "metadata": {},
   "outputs": [
    {
     "data": {
      "text/html": [
       "<div>\n",
       "<style scoped>\n",
       "    .dataframe tbody tr th:only-of-type {\n",
       "        vertical-align: middle;\n",
       "    }\n",
       "\n",
       "    .dataframe tbody tr th {\n",
       "        vertical-align: top;\n",
       "    }\n",
       "\n",
       "    .dataframe thead th {\n",
       "        text-align: right;\n",
       "    }\n",
       "</style>\n",
       "<table border=\"1\" class=\"dataframe\">\n",
       "  <thead>\n",
       "    <tr style=\"text-align: right;\">\n",
       "      <th></th>\n",
       "      <th>0</th>\n",
       "      <th>1</th>\n",
       "      <th>Customer</th>\n",
       "      <th>Price</th>\n",
       "    </tr>\n",
       "    <tr>\n",
       "      <th>Item</th>\n",
       "      <th></th>\n",
       "      <th></th>\n",
       "      <th></th>\n",
       "      <th></th>\n",
       "    </tr>\n",
       "  </thead>\n",
       "  <tbody>\n",
       "    <tr>\n",
       "      <th>YT04906-089.50</th>\n",
       "      <td>CAT</td>\n",
       "      <td>41.00</td>\n",
       "      <td>CAT</td>\n",
       "      <td>41.00</td>\n",
       "    </tr>\n",
       "    <tr>\n",
       "      <th>YT04906-089.50</th>\n",
       "      <td>CAT</td>\n",
       "      <td>41.00</td>\n",
       "      <td>CAT</td>\n",
       "      <td>41.00</td>\n",
       "    </tr>\n",
       "    <tr>\n",
       "      <th>YT04906-089.50</th>\n",
       "      <td>CAT</td>\n",
       "      <td>41.00</td>\n",
       "      <td>CAT</td>\n",
       "      <td>41.00</td>\n",
       "    </tr>\n",
       "    <tr>\n",
       "      <th>YT04906-089.50</th>\n",
       "      <td>CAT</td>\n",
       "      <td>41.00</td>\n",
       "      <td>CAT</td>\n",
       "      <td>41.00</td>\n",
       "    </tr>\n",
       "    <tr>\n",
       "      <th>YT04906-089.50</th>\n",
       "      <td>CAT</td>\n",
       "      <td>41.00</td>\n",
       "      <td>CAT</td>\n",
       "      <td>41.00</td>\n",
       "    </tr>\n",
       "  </tbody>\n",
       "</table>\n",
       "</div>"
      ],
      "text/plain": [
       "                  0      1 Customer  Price\n",
       "Item                                      \n",
       "YT04906-089.50  CAT  41.00      CAT  41.00\n",
       "YT04906-089.50  CAT  41.00      CAT  41.00\n",
       "YT04906-089.50  CAT  41.00      CAT  41.00\n",
       "YT04906-089.50  CAT  41.00      CAT  41.00\n",
       "YT04906-089.50  CAT  41.00      CAT  41.00"
      ]
     },
     "execution_count": 7,
     "metadata": {},
     "output_type": "execute_result"
    }
   ],
   "source": [
    "# Make separate Price column from new data frame \n",
    "new[\"Price\"]= new[1] \n",
    "new.head()"
   ]
  },
  {
   "cell_type": "code",
   "execution_count": 8,
   "metadata": {},
   "outputs": [
    {
     "data": {
      "text/html": [
       "<div>\n",
       "<style scoped>\n",
       "    .dataframe tbody tr th:only-of-type {\n",
       "        vertical-align: middle;\n",
       "    }\n",
       "\n",
       "    .dataframe tbody tr th {\n",
       "        vertical-align: top;\n",
       "    }\n",
       "\n",
       "    .dataframe thead th {\n",
       "        text-align: right;\n",
       "    }\n",
       "</style>\n",
       "<table border=\"1\" class=\"dataframe\">\n",
       "  <thead>\n",
       "    <tr style=\"text-align: right;\">\n",
       "      <th></th>\n",
       "      <th>Customer</th>\n",
       "      <th>Price</th>\n",
       "    </tr>\n",
       "    <tr>\n",
       "      <th>Item</th>\n",
       "      <th></th>\n",
       "      <th></th>\n",
       "    </tr>\n",
       "  </thead>\n",
       "  <tbody>\n",
       "    <tr>\n",
       "      <th>YT04906-089.50</th>\n",
       "      <td>CAT</td>\n",
       "      <td>41.00</td>\n",
       "    </tr>\n",
       "    <tr>\n",
       "      <th>YT04906-089.50</th>\n",
       "      <td>CAT</td>\n",
       "      <td>41.00</td>\n",
       "    </tr>\n",
       "    <tr>\n",
       "      <th>YT04906-089.50</th>\n",
       "      <td>CAT</td>\n",
       "      <td>41.00</td>\n",
       "    </tr>\n",
       "    <tr>\n",
       "      <th>YT04906-089.50</th>\n",
       "      <td>CAT</td>\n",
       "      <td>41.00</td>\n",
       "    </tr>\n",
       "    <tr>\n",
       "      <th>YT04906-089.50</th>\n",
       "      <td>CAT</td>\n",
       "      <td>41.00</td>\n",
       "    </tr>\n",
       "  </tbody>\n",
       "</table>\n",
       "</div>"
      ],
      "text/plain": [
       "               Customer  Price\n",
       "Item                          \n",
       "YT04906-089.50      CAT  41.00\n",
       "YT04906-089.50      CAT  41.00\n",
       "YT04906-089.50      CAT  41.00\n",
       "YT04906-089.50      CAT  41.00\n",
       "YT04906-089.50      CAT  41.00"
      ]
     },
     "execution_count": 8,
     "metadata": {},
     "output_type": "execute_result"
    }
   ],
   "source": [
    "# Dropping 0 and 1 columns from new data frame\n",
    "new.drop(columns =[0, 1], inplace = True)\n",
    "new.head()"
   ]
  },
  {
   "cell_type": "code",
   "execution_count": 9,
   "metadata": {},
   "outputs": [
    {
     "data": {
      "text/html": [
       "<div>\n",
       "<style scoped>\n",
       "    .dataframe tbody tr th:only-of-type {\n",
       "        vertical-align: middle;\n",
       "    }\n",
       "\n",
       "    .dataframe tbody tr th {\n",
       "        vertical-align: top;\n",
       "    }\n",
       "\n",
       "    .dataframe thead th {\n",
       "        text-align: right;\n",
       "    }\n",
       "</style>\n",
       "<table border=\"1\" class=\"dataframe\">\n",
       "  <thead>\n",
       "    <tr style=\"text-align: right;\">\n",
       "      <th></th>\n",
       "      <th>Date</th>\n",
       "      <th>Current</th>\n",
       "      <th>Comment</th>\n",
       "      <th>Customer</th>\n",
       "      <th>Price</th>\n",
       "    </tr>\n",
       "    <tr>\n",
       "      <th>Item</th>\n",
       "      <th></th>\n",
       "      <th></th>\n",
       "      <th></th>\n",
       "      <th></th>\n",
       "      <th></th>\n",
       "    </tr>\n",
       "  </thead>\n",
       "  <tbody>\n",
       "    <tr>\n",
       "      <th>YT04906-089.50</th>\n",
       "      <td>3/16/2021</td>\n",
       "      <td>22</td>\n",
       "      <td>CAT 41.00</td>\n",
       "      <td>CAT</td>\n",
       "      <td>41.00</td>\n",
       "    </tr>\n",
       "    <tr>\n",
       "      <th>YT04906-089.50</th>\n",
       "      <td>3/16/2021</td>\n",
       "      <td>22</td>\n",
       "      <td>CAT 41.00</td>\n",
       "      <td>CAT</td>\n",
       "      <td>41.00</td>\n",
       "    </tr>\n",
       "    <tr>\n",
       "      <th>YT04906-089.50</th>\n",
       "      <td>3/16/2021</td>\n",
       "      <td>22</td>\n",
       "      <td>CAT 41.00</td>\n",
       "      <td>CAT</td>\n",
       "      <td>41.00</td>\n",
       "    </tr>\n",
       "    <tr>\n",
       "      <th>YT04906-089.50</th>\n",
       "      <td>3/16/2021</td>\n",
       "      <td>22</td>\n",
       "      <td>CAT 41.00</td>\n",
       "      <td>CAT</td>\n",
       "      <td>41.00</td>\n",
       "    </tr>\n",
       "    <tr>\n",
       "      <th>YT04906-089.50</th>\n",
       "      <td>3/16/2021</td>\n",
       "      <td>22</td>\n",
       "      <td>CAT 41.00</td>\n",
       "      <td>CAT</td>\n",
       "      <td>41.00</td>\n",
       "    </tr>\n",
       "    <tr>\n",
       "      <th>...</th>\n",
       "      <td>...</td>\n",
       "      <td>...</td>\n",
       "      <td>...</td>\n",
       "      <td>...</td>\n",
       "      <td>...</td>\n",
       "    </tr>\n",
       "    <tr>\n",
       "      <th>YT50972-113.50</th>\n",
       "      <td>11/29/2021</td>\n",
       "      <td>40</td>\n",
       "      <td>PR 17.00</td>\n",
       "      <td>PR</td>\n",
       "      <td>17.00</td>\n",
       "    </tr>\n",
       "    <tr>\n",
       "      <th>YT50972-113.50</th>\n",
       "      <td>11/29/2021</td>\n",
       "      <td>40</td>\n",
       "      <td>PR 17.00</td>\n",
       "      <td>PR</td>\n",
       "      <td>17.00</td>\n",
       "    </tr>\n",
       "    <tr>\n",
       "      <th>YT50972-113.50</th>\n",
       "      <td>11/29/2021</td>\n",
       "      <td>40</td>\n",
       "      <td>PR 17.00</td>\n",
       "      <td>PR</td>\n",
       "      <td>17.00</td>\n",
       "    </tr>\n",
       "    <tr>\n",
       "      <th>YT50972-113.50</th>\n",
       "      <td>11/29/2021</td>\n",
       "      <td>40</td>\n",
       "      <td>PR 17.00</td>\n",
       "      <td>PR</td>\n",
       "      <td>17.00</td>\n",
       "    </tr>\n",
       "    <tr>\n",
       "      <th>YT50972-113.50</th>\n",
       "      <td>11/29/2021</td>\n",
       "      <td>40</td>\n",
       "      <td>PR 17.00</td>\n",
       "      <td>PR</td>\n",
       "      <td>17.00</td>\n",
       "    </tr>\n",
       "  </tbody>\n",
       "</table>\n",
       "<p>4669 rows × 5 columns</p>\n",
       "</div>"
      ],
      "text/plain": [
       "                      Date  Current    Comment Customer  Price\n",
       "Item                                                          \n",
       "YT04906-089.50   3/16/2021       22  CAT 41.00      CAT  41.00\n",
       "YT04906-089.50   3/16/2021       22  CAT 41.00      CAT  41.00\n",
       "YT04906-089.50   3/16/2021       22  CAT 41.00      CAT  41.00\n",
       "YT04906-089.50   3/16/2021       22  CAT 41.00      CAT  41.00\n",
       "YT04906-089.50   3/16/2021       22  CAT 41.00      CAT  41.00\n",
       "...                    ...      ...        ...      ...    ...\n",
       "YT50972-113.50  11/29/2021       40   PR 17.00       PR  17.00\n",
       "YT50972-113.50  11/29/2021       40   PR 17.00       PR  17.00\n",
       "YT50972-113.50  11/29/2021       40   PR 17.00       PR  17.00\n",
       "YT50972-113.50  11/29/2021       40   PR 17.00       PR  17.00\n",
       "YT50972-113.50  11/29/2021       40   PR 17.00       PR  17.00\n",
       "\n",
       "[4669 rows x 5 columns]"
      ]
     },
     "execution_count": 9,
     "metadata": {},
     "output_type": "execute_result"
    }
   ],
   "source": [
    "# Merge jax_fc and new data frames\n",
    "total_jax_fc = pd.merge(jax_fc, new, on=\"Item\")\n",
    "total_jax_fc"
   ]
  },
  {
   "cell_type": "code",
   "execution_count": 10,
   "metadata": {},
   "outputs": [
    {
     "data": {
      "text/html": [
       "<div>\n",
       "<style scoped>\n",
       "    .dataframe tbody tr th:only-of-type {\n",
       "        vertical-align: middle;\n",
       "    }\n",
       "\n",
       "    .dataframe tbody tr th {\n",
       "        vertical-align: top;\n",
       "    }\n",
       "\n",
       "    .dataframe thead th {\n",
       "        text-align: right;\n",
       "    }\n",
       "</style>\n",
       "<table border=\"1\" class=\"dataframe\">\n",
       "  <thead>\n",
       "    <tr style=\"text-align: right;\">\n",
       "      <th></th>\n",
       "      <th>Date</th>\n",
       "      <th>Qty</th>\n",
       "      <th>Comment</th>\n",
       "      <th>Customer</th>\n",
       "      <th>Price</th>\n",
       "    </tr>\n",
       "    <tr>\n",
       "      <th>Item</th>\n",
       "      <th></th>\n",
       "      <th></th>\n",
       "      <th></th>\n",
       "      <th></th>\n",
       "      <th></th>\n",
       "    </tr>\n",
       "  </thead>\n",
       "  <tbody>\n",
       "    <tr>\n",
       "      <th>YT04906-089.50</th>\n",
       "      <td>3/16/2021</td>\n",
       "      <td>22</td>\n",
       "      <td>CAT 41.00</td>\n",
       "      <td>CAT</td>\n",
       "      <td>41.00</td>\n",
       "    </tr>\n",
       "    <tr>\n",
       "      <th>YT04906-089.50</th>\n",
       "      <td>3/16/2021</td>\n",
       "      <td>22</td>\n",
       "      <td>CAT 41.00</td>\n",
       "      <td>CAT</td>\n",
       "      <td>41.00</td>\n",
       "    </tr>\n",
       "    <tr>\n",
       "      <th>YT04906-089.50</th>\n",
       "      <td>3/16/2021</td>\n",
       "      <td>22</td>\n",
       "      <td>CAT 41.00</td>\n",
       "      <td>CAT</td>\n",
       "      <td>41.00</td>\n",
       "    </tr>\n",
       "    <tr>\n",
       "      <th>YT04906-089.50</th>\n",
       "      <td>3/16/2021</td>\n",
       "      <td>22</td>\n",
       "      <td>CAT 41.00</td>\n",
       "      <td>CAT</td>\n",
       "      <td>41.00</td>\n",
       "    </tr>\n",
       "    <tr>\n",
       "      <th>YT04906-089.50</th>\n",
       "      <td>3/16/2021</td>\n",
       "      <td>22</td>\n",
       "      <td>CAT 41.00</td>\n",
       "      <td>CAT</td>\n",
       "      <td>41.00</td>\n",
       "    </tr>\n",
       "  </tbody>\n",
       "</table>\n",
       "</div>"
      ],
      "text/plain": [
       "                     Date  Qty    Comment Customer  Price\n",
       "Item                                                     \n",
       "YT04906-089.50  3/16/2021   22  CAT 41.00      CAT  41.00\n",
       "YT04906-089.50  3/16/2021   22  CAT 41.00      CAT  41.00\n",
       "YT04906-089.50  3/16/2021   22  CAT 41.00      CAT  41.00\n",
       "YT04906-089.50  3/16/2021   22  CAT 41.00      CAT  41.00\n",
       "YT04906-089.50  3/16/2021   22  CAT 41.00      CAT  41.00"
      ]
     },
     "execution_count": 10,
     "metadata": {},
     "output_type": "execute_result"
    }
   ],
   "source": [
    "# Change Current to Qty\n",
    "total_jax_fc = total_jax_fc.rename(columns = {\"Current\": \"Qty\"})\n",
    "total_jax_fc.head()"
   ]
  },
  {
   "cell_type": "code",
   "execution_count": 11,
   "metadata": {},
   "outputs": [
    {
     "data": {
      "text/html": [
       "<div>\n",
       "<style scoped>\n",
       "    .dataframe tbody tr th:only-of-type {\n",
       "        vertical-align: middle;\n",
       "    }\n",
       "\n",
       "    .dataframe tbody tr th {\n",
       "        vertical-align: top;\n",
       "    }\n",
       "\n",
       "    .dataframe thead th {\n",
       "        text-align: right;\n",
       "    }\n",
       "</style>\n",
       "<table border=\"1\" class=\"dataframe\">\n",
       "  <thead>\n",
       "    <tr style=\"text-align: right;\">\n",
       "      <th></th>\n",
       "      <th>Date</th>\n",
       "      <th>Qty</th>\n",
       "      <th>Comment</th>\n",
       "      <th>Customer</th>\n",
       "      <th>Price</th>\n",
       "    </tr>\n",
       "    <tr>\n",
       "      <th>Item</th>\n",
       "      <th></th>\n",
       "      <th></th>\n",
       "      <th></th>\n",
       "      <th></th>\n",
       "      <th></th>\n",
       "    </tr>\n",
       "  </thead>\n",
       "  <tbody>\n",
       "    <tr>\n",
       "      <th>YT04906-089.50</th>\n",
       "      <td>3/16/2021</td>\n",
       "      <td>22</td>\n",
       "      <td>CAT 41.00</td>\n",
       "      <td>CAT</td>\n",
       "      <td>41.00</td>\n",
       "    </tr>\n",
       "    <tr>\n",
       "      <th>YT04906-089.50</th>\n",
       "      <td>3/16/2021</td>\n",
       "      <td>22</td>\n",
       "      <td>CAT 41.00</td>\n",
       "      <td>CAT</td>\n",
       "      <td>41.00</td>\n",
       "    </tr>\n",
       "    <tr>\n",
       "      <th>YT04906-089.50</th>\n",
       "      <td>3/16/2021</td>\n",
       "      <td>22</td>\n",
       "      <td>CAT 41.00</td>\n",
       "      <td>CAT</td>\n",
       "      <td>41.00</td>\n",
       "    </tr>\n",
       "    <tr>\n",
       "      <th>YT04906-089.50</th>\n",
       "      <td>3/16/2021</td>\n",
       "      <td>22</td>\n",
       "      <td>CAT 41.00</td>\n",
       "      <td>CAT</td>\n",
       "      <td>41.00</td>\n",
       "    </tr>\n",
       "    <tr>\n",
       "      <th>YT04906-089.50</th>\n",
       "      <td>3/16/2021</td>\n",
       "      <td>22</td>\n",
       "      <td>CAT 41.00</td>\n",
       "      <td>CAT</td>\n",
       "      <td>41.00</td>\n",
       "    </tr>\n",
       "  </tbody>\n",
       "</table>\n",
       "</div>"
      ],
      "text/plain": [
       "                     Date  Qty    Comment Customer  Price\n",
       "Item                                                     \n",
       "YT04906-089.50  3/16/2021   22  CAT 41.00      CAT  41.00\n",
       "YT04906-089.50  3/16/2021   22  CAT 41.00      CAT  41.00\n",
       "YT04906-089.50  3/16/2021   22  CAT 41.00      CAT  41.00\n",
       "YT04906-089.50  3/16/2021   22  CAT 41.00      CAT  41.00\n",
       "YT04906-089.50  3/16/2021   22  CAT 41.00      CAT  41.00"
      ]
     },
     "execution_count": 11,
     "metadata": {},
     "output_type": "execute_result"
    }
   ],
   "source": [
    "# Remove Qty 0\n",
    "total_jax_fc = total_jax_fc[total_jax_fc[\"Qty\"] != 0]\n",
    "total_jax_fc.head()"
   ]
  },
  {
   "cell_type": "code",
   "execution_count": 12,
   "metadata": {},
   "outputs": [
    {
     "data": {
      "text/plain": [
       "Date        object\n",
       "Qty          int64\n",
       "Comment     object\n",
       "Customer    object\n",
       "Price       object\n",
       "dtype: object"
      ]
     },
     "execution_count": 12,
     "metadata": {},
     "output_type": "execute_result"
    }
   ],
   "source": [
    "#Check data types\n",
    "total_jax_fc.dtypes"
   ]
  },
  {
   "cell_type": "code",
   "execution_count": 13,
   "metadata": {},
   "outputs": [
    {
     "data": {
      "text/html": [
       "<div>\n",
       "<style scoped>\n",
       "    .dataframe tbody tr th:only-of-type {\n",
       "        vertical-align: middle;\n",
       "    }\n",
       "\n",
       "    .dataframe tbody tr th {\n",
       "        vertical-align: top;\n",
       "    }\n",
       "\n",
       "    .dataframe thead th {\n",
       "        text-align: right;\n",
       "    }\n",
       "</style>\n",
       "<table border=\"1\" class=\"dataframe\">\n",
       "  <thead>\n",
       "    <tr style=\"text-align: right;\">\n",
       "      <th></th>\n",
       "      <th>Date</th>\n",
       "      <th>Qty</th>\n",
       "      <th>Comment</th>\n",
       "      <th>Customer</th>\n",
       "      <th>Price</th>\n",
       "    </tr>\n",
       "    <tr>\n",
       "      <th>Item</th>\n",
       "      <th></th>\n",
       "      <th></th>\n",
       "      <th></th>\n",
       "      <th></th>\n",
       "      <th></th>\n",
       "    </tr>\n",
       "  </thead>\n",
       "  <tbody>\n",
       "    <tr>\n",
       "      <th>YT04906-089.50</th>\n",
       "      <td>3/16/2021</td>\n",
       "      <td>22</td>\n",
       "      <td>CAT 41.00</td>\n",
       "      <td>CAT</td>\n",
       "      <td>41.0</td>\n",
       "    </tr>\n",
       "    <tr>\n",
       "      <th>YT04906-089.50</th>\n",
       "      <td>3/16/2021</td>\n",
       "      <td>22</td>\n",
       "      <td>CAT 41.00</td>\n",
       "      <td>CAT</td>\n",
       "      <td>41.0</td>\n",
       "    </tr>\n",
       "    <tr>\n",
       "      <th>YT04906-089.50</th>\n",
       "      <td>3/16/2021</td>\n",
       "      <td>22</td>\n",
       "      <td>CAT 41.00</td>\n",
       "      <td>CAT</td>\n",
       "      <td>41.0</td>\n",
       "    </tr>\n",
       "    <tr>\n",
       "      <th>YT04906-089.50</th>\n",
       "      <td>3/16/2021</td>\n",
       "      <td>22</td>\n",
       "      <td>CAT 41.00</td>\n",
       "      <td>CAT</td>\n",
       "      <td>41.0</td>\n",
       "    </tr>\n",
       "    <tr>\n",
       "      <th>YT04906-089.50</th>\n",
       "      <td>3/16/2021</td>\n",
       "      <td>22</td>\n",
       "      <td>CAT 41.00</td>\n",
       "      <td>CAT</td>\n",
       "      <td>41.0</td>\n",
       "    </tr>\n",
       "    <tr>\n",
       "      <th>...</th>\n",
       "      <td>...</td>\n",
       "      <td>...</td>\n",
       "      <td>...</td>\n",
       "      <td>...</td>\n",
       "      <td>...</td>\n",
       "    </tr>\n",
       "    <tr>\n",
       "      <th>YT50972-113.50</th>\n",
       "      <td>11/29/2021</td>\n",
       "      <td>40</td>\n",
       "      <td>PR 17.00</td>\n",
       "      <td>PR</td>\n",
       "      <td>17.0</td>\n",
       "    </tr>\n",
       "    <tr>\n",
       "      <th>YT50972-113.50</th>\n",
       "      <td>11/29/2021</td>\n",
       "      <td>40</td>\n",
       "      <td>PR 17.00</td>\n",
       "      <td>PR</td>\n",
       "      <td>17.0</td>\n",
       "    </tr>\n",
       "    <tr>\n",
       "      <th>YT50972-113.50</th>\n",
       "      <td>11/29/2021</td>\n",
       "      <td>40</td>\n",
       "      <td>PR 17.00</td>\n",
       "      <td>PR</td>\n",
       "      <td>17.0</td>\n",
       "    </tr>\n",
       "    <tr>\n",
       "      <th>YT50972-113.50</th>\n",
       "      <td>11/29/2021</td>\n",
       "      <td>40</td>\n",
       "      <td>PR 17.00</td>\n",
       "      <td>PR</td>\n",
       "      <td>17.0</td>\n",
       "    </tr>\n",
       "    <tr>\n",
       "      <th>YT50972-113.50</th>\n",
       "      <td>11/29/2021</td>\n",
       "      <td>40</td>\n",
       "      <td>PR 17.00</td>\n",
       "      <td>PR</td>\n",
       "      <td>17.0</td>\n",
       "    </tr>\n",
       "  </tbody>\n",
       "</table>\n",
       "<p>4584 rows × 5 columns</p>\n",
       "</div>"
      ],
      "text/plain": [
       "                      Date  Qty    Comment Customer  Price\n",
       "Item                                                      \n",
       "YT04906-089.50   3/16/2021   22  CAT 41.00      CAT   41.0\n",
       "YT04906-089.50   3/16/2021   22  CAT 41.00      CAT   41.0\n",
       "YT04906-089.50   3/16/2021   22  CAT 41.00      CAT   41.0\n",
       "YT04906-089.50   3/16/2021   22  CAT 41.00      CAT   41.0\n",
       "YT04906-089.50   3/16/2021   22  CAT 41.00      CAT   41.0\n",
       "...                    ...  ...        ...      ...    ...\n",
       "YT50972-113.50  11/29/2021   40   PR 17.00       PR   17.0\n",
       "YT50972-113.50  11/29/2021   40   PR 17.00       PR   17.0\n",
       "YT50972-113.50  11/29/2021   40   PR 17.00       PR   17.0\n",
       "YT50972-113.50  11/29/2021   40   PR 17.00       PR   17.0\n",
       "YT50972-113.50  11/29/2021   40   PR 17.00       PR   17.0\n",
       "\n",
       "[4584 rows x 5 columns]"
      ]
     },
     "execution_count": 13,
     "metadata": {},
     "output_type": "execute_result"
    }
   ],
   "source": [
    "# Change Price data type from object to float\n",
    "total_jax_fc['Price'] = total_jax_fc['Price'].astype(float)\n",
    "total_jax_fc"
   ]
  },
  {
   "cell_type": "code",
   "execution_count": 14,
   "metadata": {},
   "outputs": [
    {
     "data": {
      "text/plain": [
       "Date         object\n",
       "Qty           int64\n",
       "Comment      object\n",
       "Customer     object\n",
       "Price       float64\n",
       "dtype: object"
      ]
     },
     "execution_count": 14,
     "metadata": {},
     "output_type": "execute_result"
    }
   ],
   "source": [
    "# Recheck data types\n",
    "total_jax_fc.dtypes"
   ]
  },
  {
   "cell_type": "code",
   "execution_count": 15,
   "metadata": {},
   "outputs": [
    {
     "data": {
      "text/plain": [
       "Date        4584\n",
       "Qty         4584\n",
       "Comment     4452\n",
       "Customer    4452\n",
       "Price       4452\n",
       "dtype: int64"
      ]
     },
     "execution_count": 15,
     "metadata": {},
     "output_type": "execute_result"
    }
   ],
   "source": [
    "# Check total count against resource file to ensure data is correct\n",
    "total_jax_fc.count()"
   ]
  },
  {
   "cell_type": "code",
   "execution_count": 16,
   "metadata": {},
   "outputs": [
    {
     "data": {
      "text/html": [
       "<div>\n",
       "<style scoped>\n",
       "    .dataframe tbody tr th:only-of-type {\n",
       "        vertical-align: middle;\n",
       "    }\n",
       "\n",
       "    .dataframe tbody tr th {\n",
       "        vertical-align: top;\n",
       "    }\n",
       "\n",
       "    .dataframe thead th {\n",
       "        text-align: right;\n",
       "    }\n",
       "</style>\n",
       "<table border=\"1\" class=\"dataframe\">\n",
       "  <thead>\n",
       "    <tr style=\"text-align: right;\">\n",
       "      <th></th>\n",
       "      <th>Date</th>\n",
       "      <th>Qty</th>\n",
       "      <th>Comment</th>\n",
       "      <th>Customer</th>\n",
       "      <th>Price</th>\n",
       "      <th>Extended Price</th>\n",
       "    </tr>\n",
       "    <tr>\n",
       "      <th>Item</th>\n",
       "      <th></th>\n",
       "      <th></th>\n",
       "      <th></th>\n",
       "      <th></th>\n",
       "      <th></th>\n",
       "      <th></th>\n",
       "    </tr>\n",
       "  </thead>\n",
       "  <tbody>\n",
       "    <tr>\n",
       "      <th>YT04906-089.50</th>\n",
       "      <td>3/16/2021</td>\n",
       "      <td>22</td>\n",
       "      <td>CAT 41.00</td>\n",
       "      <td>CAT</td>\n",
       "      <td>41.0</td>\n",
       "      <td>902.0</td>\n",
       "    </tr>\n",
       "    <tr>\n",
       "      <th>YT04906-089.50</th>\n",
       "      <td>3/16/2021</td>\n",
       "      <td>22</td>\n",
       "      <td>CAT 41.00</td>\n",
       "      <td>CAT</td>\n",
       "      <td>41.0</td>\n",
       "      <td>902.0</td>\n",
       "    </tr>\n",
       "    <tr>\n",
       "      <th>YT04906-089.50</th>\n",
       "      <td>3/16/2021</td>\n",
       "      <td>22</td>\n",
       "      <td>CAT 41.00</td>\n",
       "      <td>CAT</td>\n",
       "      <td>41.0</td>\n",
       "      <td>902.0</td>\n",
       "    </tr>\n",
       "    <tr>\n",
       "      <th>YT04906-089.50</th>\n",
       "      <td>3/16/2021</td>\n",
       "      <td>22</td>\n",
       "      <td>CAT 41.00</td>\n",
       "      <td>CAT</td>\n",
       "      <td>41.0</td>\n",
       "      <td>902.0</td>\n",
       "    </tr>\n",
       "    <tr>\n",
       "      <th>YT04906-089.50</th>\n",
       "      <td>3/16/2021</td>\n",
       "      <td>22</td>\n",
       "      <td>CAT 41.00</td>\n",
       "      <td>CAT</td>\n",
       "      <td>41.0</td>\n",
       "      <td>902.0</td>\n",
       "    </tr>\n",
       "  </tbody>\n",
       "</table>\n",
       "</div>"
      ],
      "text/plain": [
       "                     Date  Qty    Comment Customer  Price  Extended Price\n",
       "Item                                                                     \n",
       "YT04906-089.50  3/16/2021   22  CAT 41.00      CAT   41.0           902.0\n",
       "YT04906-089.50  3/16/2021   22  CAT 41.00      CAT   41.0           902.0\n",
       "YT04906-089.50  3/16/2021   22  CAT 41.00      CAT   41.0           902.0\n",
       "YT04906-089.50  3/16/2021   22  CAT 41.00      CAT   41.0           902.0\n",
       "YT04906-089.50  3/16/2021   22  CAT 41.00      CAT   41.0           902.0"
      ]
     },
     "execution_count": 16,
     "metadata": {},
     "output_type": "execute_result"
    }
   ],
   "source": [
    "# Add extended price column and populate with Price * Qty\n",
    "total_jax_fc[\"Extended Price\"] = total_jax_fc.Price * total_jax_fc.Qty\n",
    "total_jax_fc.head()"
   ]
  },
  {
   "cell_type": "code",
   "execution_count": 17,
   "metadata": {},
   "outputs": [
    {
     "data": {
      "text/html": [
       "<div>\n",
       "<style scoped>\n",
       "    .dataframe tbody tr th:only-of-type {\n",
       "        vertical-align: middle;\n",
       "    }\n",
       "\n",
       "    .dataframe tbody tr th {\n",
       "        vertical-align: top;\n",
       "    }\n",
       "\n",
       "    .dataframe thead th {\n",
       "        text-align: right;\n",
       "    }\n",
       "</style>\n",
       "<table border=\"1\" class=\"dataframe\">\n",
       "  <thead>\n",
       "    <tr style=\"text-align: right;\">\n",
       "      <th></th>\n",
       "      <th>Date</th>\n",
       "      <th>Qty</th>\n",
       "      <th>Comment</th>\n",
       "      <th>Customer</th>\n",
       "      <th>Price</th>\n",
       "      <th>Extended Price</th>\n",
       "      <th>Type</th>\n",
       "    </tr>\n",
       "    <tr>\n",
       "      <th>Item</th>\n",
       "      <th></th>\n",
       "      <th></th>\n",
       "      <th></th>\n",
       "      <th></th>\n",
       "      <th></th>\n",
       "      <th></th>\n",
       "      <th></th>\n",
       "    </tr>\n",
       "  </thead>\n",
       "  <tbody>\n",
       "    <tr>\n",
       "      <th>YT04906-089.50</th>\n",
       "      <td>3/16/2021</td>\n",
       "      <td>22</td>\n",
       "      <td>CAT 41.00</td>\n",
       "      <td>CAT</td>\n",
       "      <td>41.0</td>\n",
       "      <td>902.0</td>\n",
       "      <td>FC</td>\n",
       "    </tr>\n",
       "    <tr>\n",
       "      <th>YT04906-089.50</th>\n",
       "      <td>3/16/2021</td>\n",
       "      <td>22</td>\n",
       "      <td>CAT 41.00</td>\n",
       "      <td>CAT</td>\n",
       "      <td>41.0</td>\n",
       "      <td>902.0</td>\n",
       "      <td>FC</td>\n",
       "    </tr>\n",
       "    <tr>\n",
       "      <th>YT04906-089.50</th>\n",
       "      <td>3/16/2021</td>\n",
       "      <td>22</td>\n",
       "      <td>CAT 41.00</td>\n",
       "      <td>CAT</td>\n",
       "      <td>41.0</td>\n",
       "      <td>902.0</td>\n",
       "      <td>FC</td>\n",
       "    </tr>\n",
       "    <tr>\n",
       "      <th>YT04906-089.50</th>\n",
       "      <td>3/16/2021</td>\n",
       "      <td>22</td>\n",
       "      <td>CAT 41.00</td>\n",
       "      <td>CAT</td>\n",
       "      <td>41.0</td>\n",
       "      <td>902.0</td>\n",
       "      <td>FC</td>\n",
       "    </tr>\n",
       "    <tr>\n",
       "      <th>YT04906-089.50</th>\n",
       "      <td>3/16/2021</td>\n",
       "      <td>22</td>\n",
       "      <td>CAT 41.00</td>\n",
       "      <td>CAT</td>\n",
       "      <td>41.0</td>\n",
       "      <td>902.0</td>\n",
       "      <td>FC</td>\n",
       "    </tr>\n",
       "  </tbody>\n",
       "</table>\n",
       "</div>"
      ],
      "text/plain": [
       "                     Date  Qty    Comment Customer  Price  Extended Price Type\n",
       "Item                                                                          \n",
       "YT04906-089.50  3/16/2021   22  CAT 41.00      CAT   41.0           902.0   FC\n",
       "YT04906-089.50  3/16/2021   22  CAT 41.00      CAT   41.0           902.0   FC\n",
       "YT04906-089.50  3/16/2021   22  CAT 41.00      CAT   41.0           902.0   FC\n",
       "YT04906-089.50  3/16/2021   22  CAT 41.00      CAT   41.0           902.0   FC\n",
       "YT04906-089.50  3/16/2021   22  CAT 41.00      CAT   41.0           902.0   FC"
      ]
     },
     "execution_count": 17,
     "metadata": {},
     "output_type": "execute_result"
    }
   ],
   "source": [
    "# Add column TYPE\n",
    "total_jax_fc[\"Type\"] = \"FC\"\n",
    "total_jax_fc.head()"
   ]
  },
  {
   "cell_type": "code",
   "execution_count": 18,
   "metadata": {},
   "outputs": [
    {
     "data": {
      "text/html": [
       "<div>\n",
       "<style scoped>\n",
       "    .dataframe tbody tr th:only-of-type {\n",
       "        vertical-align: middle;\n",
       "    }\n",
       "\n",
       "    .dataframe tbody tr th {\n",
       "        vertical-align: top;\n",
       "    }\n",
       "\n",
       "    .dataframe thead th {\n",
       "        text-align: right;\n",
       "    }\n",
       "</style>\n",
       "<table border=\"1\" class=\"dataframe\">\n",
       "  <thead>\n",
       "    <tr style=\"text-align: right;\">\n",
       "      <th></th>\n",
       "      <th>Date</th>\n",
       "      <th>Qty</th>\n",
       "      <th>Comment</th>\n",
       "      <th>Customer</th>\n",
       "      <th>Price</th>\n",
       "      <th>Extended Price</th>\n",
       "      <th>Type</th>\n",
       "      <th>Org</th>\n",
       "    </tr>\n",
       "    <tr>\n",
       "      <th>Item</th>\n",
       "      <th></th>\n",
       "      <th></th>\n",
       "      <th></th>\n",
       "      <th></th>\n",
       "      <th></th>\n",
       "      <th></th>\n",
       "      <th></th>\n",
       "      <th></th>\n",
       "    </tr>\n",
       "  </thead>\n",
       "  <tbody>\n",
       "    <tr>\n",
       "      <th>YT04906-089.50</th>\n",
       "      <td>3/16/2021</td>\n",
       "      <td>22</td>\n",
       "      <td>CAT 41.00</td>\n",
       "      <td>CAT</td>\n",
       "      <td>41.0</td>\n",
       "      <td>902.0</td>\n",
       "      <td>FC</td>\n",
       "      <td>JAX</td>\n",
       "    </tr>\n",
       "    <tr>\n",
       "      <th>YT04906-089.50</th>\n",
       "      <td>3/16/2021</td>\n",
       "      <td>22</td>\n",
       "      <td>CAT 41.00</td>\n",
       "      <td>CAT</td>\n",
       "      <td>41.0</td>\n",
       "      <td>902.0</td>\n",
       "      <td>FC</td>\n",
       "      <td>JAX</td>\n",
       "    </tr>\n",
       "    <tr>\n",
       "      <th>YT04906-089.50</th>\n",
       "      <td>3/16/2021</td>\n",
       "      <td>22</td>\n",
       "      <td>CAT 41.00</td>\n",
       "      <td>CAT</td>\n",
       "      <td>41.0</td>\n",
       "      <td>902.0</td>\n",
       "      <td>FC</td>\n",
       "      <td>JAX</td>\n",
       "    </tr>\n",
       "    <tr>\n",
       "      <th>YT04906-089.50</th>\n",
       "      <td>3/16/2021</td>\n",
       "      <td>22</td>\n",
       "      <td>CAT 41.00</td>\n",
       "      <td>CAT</td>\n",
       "      <td>41.0</td>\n",
       "      <td>902.0</td>\n",
       "      <td>FC</td>\n",
       "      <td>JAX</td>\n",
       "    </tr>\n",
       "    <tr>\n",
       "      <th>YT04906-089.50</th>\n",
       "      <td>3/16/2021</td>\n",
       "      <td>22</td>\n",
       "      <td>CAT 41.00</td>\n",
       "      <td>CAT</td>\n",
       "      <td>41.0</td>\n",
       "      <td>902.0</td>\n",
       "      <td>FC</td>\n",
       "      <td>JAX</td>\n",
       "    </tr>\n",
       "  </tbody>\n",
       "</table>\n",
       "</div>"
      ],
      "text/plain": [
       "                     Date  Qty    Comment Customer  Price  Extended Price  \\\n",
       "Item                                                                        \n",
       "YT04906-089.50  3/16/2021   22  CAT 41.00      CAT   41.0           902.0   \n",
       "YT04906-089.50  3/16/2021   22  CAT 41.00      CAT   41.0           902.0   \n",
       "YT04906-089.50  3/16/2021   22  CAT 41.00      CAT   41.0           902.0   \n",
       "YT04906-089.50  3/16/2021   22  CAT 41.00      CAT   41.0           902.0   \n",
       "YT04906-089.50  3/16/2021   22  CAT 41.00      CAT   41.0           902.0   \n",
       "\n",
       "               Type  Org  \n",
       "Item                      \n",
       "YT04906-089.50   FC  JAX  \n",
       "YT04906-089.50   FC  JAX  \n",
       "YT04906-089.50   FC  JAX  \n",
       "YT04906-089.50   FC  JAX  \n",
       "YT04906-089.50   FC  JAX  "
      ]
     },
     "execution_count": 18,
     "metadata": {},
     "output_type": "execute_result"
    }
   ],
   "source": [
    "# Add column Org\n",
    "total_jax_fc[\"Org\"] = \"JAX\"\n",
    "total_jax_fc.head()"
   ]
  },
  {
   "cell_type": "code",
   "execution_count": 19,
   "metadata": {},
   "outputs": [
    {
     "data": {
      "text/html": [
       "<div>\n",
       "<style scoped>\n",
       "    .dataframe tbody tr th:only-of-type {\n",
       "        vertical-align: middle;\n",
       "    }\n",
       "\n",
       "    .dataframe tbody tr th {\n",
       "        vertical-align: top;\n",
       "    }\n",
       "\n",
       "    .dataframe thead th {\n",
       "        text-align: right;\n",
       "    }\n",
       "</style>\n",
       "<table border=\"1\" class=\"dataframe\">\n",
       "  <thead>\n",
       "    <tr style=\"text-align: right;\">\n",
       "      <th></th>\n",
       "      <th>Date</th>\n",
       "      <th>Qty</th>\n",
       "      <th>Customer</th>\n",
       "      <th>Price</th>\n",
       "      <th>Extended Price</th>\n",
       "      <th>Type</th>\n",
       "      <th>Org</th>\n",
       "    </tr>\n",
       "    <tr>\n",
       "      <th>Item</th>\n",
       "      <th></th>\n",
       "      <th></th>\n",
       "      <th></th>\n",
       "      <th></th>\n",
       "      <th></th>\n",
       "      <th></th>\n",
       "      <th></th>\n",
       "    </tr>\n",
       "  </thead>\n",
       "  <tbody>\n",
       "    <tr>\n",
       "      <th>YT04906-089.50</th>\n",
       "      <td>3/16/2021</td>\n",
       "      <td>22</td>\n",
       "      <td>CAT</td>\n",
       "      <td>41.0</td>\n",
       "      <td>902.0</td>\n",
       "      <td>FC</td>\n",
       "      <td>JAX</td>\n",
       "    </tr>\n",
       "    <tr>\n",
       "      <th>YT04906-089.50</th>\n",
       "      <td>3/16/2021</td>\n",
       "      <td>22</td>\n",
       "      <td>CAT</td>\n",
       "      <td>41.0</td>\n",
       "      <td>902.0</td>\n",
       "      <td>FC</td>\n",
       "      <td>JAX</td>\n",
       "    </tr>\n",
       "    <tr>\n",
       "      <th>YT04906-089.50</th>\n",
       "      <td>3/16/2021</td>\n",
       "      <td>22</td>\n",
       "      <td>CAT</td>\n",
       "      <td>41.0</td>\n",
       "      <td>902.0</td>\n",
       "      <td>FC</td>\n",
       "      <td>JAX</td>\n",
       "    </tr>\n",
       "    <tr>\n",
       "      <th>YT04906-089.50</th>\n",
       "      <td>3/16/2021</td>\n",
       "      <td>22</td>\n",
       "      <td>CAT</td>\n",
       "      <td>41.0</td>\n",
       "      <td>902.0</td>\n",
       "      <td>FC</td>\n",
       "      <td>JAX</td>\n",
       "    </tr>\n",
       "    <tr>\n",
       "      <th>YT04906-089.50</th>\n",
       "      <td>3/16/2021</td>\n",
       "      <td>22</td>\n",
       "      <td>CAT</td>\n",
       "      <td>41.0</td>\n",
       "      <td>902.0</td>\n",
       "      <td>FC</td>\n",
       "      <td>JAX</td>\n",
       "    </tr>\n",
       "    <tr>\n",
       "      <th>...</th>\n",
       "      <td>...</td>\n",
       "      <td>...</td>\n",
       "      <td>...</td>\n",
       "      <td>...</td>\n",
       "      <td>...</td>\n",
       "      <td>...</td>\n",
       "      <td>...</td>\n",
       "    </tr>\n",
       "    <tr>\n",
       "      <th>YT50972-113.50</th>\n",
       "      <td>11/29/2021</td>\n",
       "      <td>40</td>\n",
       "      <td>PR</td>\n",
       "      <td>17.0</td>\n",
       "      <td>680.0</td>\n",
       "      <td>FC</td>\n",
       "      <td>JAX</td>\n",
       "    </tr>\n",
       "    <tr>\n",
       "      <th>YT50972-113.50</th>\n",
       "      <td>11/29/2021</td>\n",
       "      <td>40</td>\n",
       "      <td>PR</td>\n",
       "      <td>17.0</td>\n",
       "      <td>680.0</td>\n",
       "      <td>FC</td>\n",
       "      <td>JAX</td>\n",
       "    </tr>\n",
       "    <tr>\n",
       "      <th>YT50972-113.50</th>\n",
       "      <td>11/29/2021</td>\n",
       "      <td>40</td>\n",
       "      <td>PR</td>\n",
       "      <td>17.0</td>\n",
       "      <td>680.0</td>\n",
       "      <td>FC</td>\n",
       "      <td>JAX</td>\n",
       "    </tr>\n",
       "    <tr>\n",
       "      <th>YT50972-113.50</th>\n",
       "      <td>11/29/2021</td>\n",
       "      <td>40</td>\n",
       "      <td>PR</td>\n",
       "      <td>17.0</td>\n",
       "      <td>680.0</td>\n",
       "      <td>FC</td>\n",
       "      <td>JAX</td>\n",
       "    </tr>\n",
       "    <tr>\n",
       "      <th>YT50972-113.50</th>\n",
       "      <td>11/29/2021</td>\n",
       "      <td>40</td>\n",
       "      <td>PR</td>\n",
       "      <td>17.0</td>\n",
       "      <td>680.0</td>\n",
       "      <td>FC</td>\n",
       "      <td>JAX</td>\n",
       "    </tr>\n",
       "  </tbody>\n",
       "</table>\n",
       "<p>4584 rows × 7 columns</p>\n",
       "</div>"
      ],
      "text/plain": [
       "                      Date  Qty Customer  Price  Extended Price Type  Org\n",
       "Item                                                                     \n",
       "YT04906-089.50   3/16/2021   22      CAT   41.0           902.0   FC  JAX\n",
       "YT04906-089.50   3/16/2021   22      CAT   41.0           902.0   FC  JAX\n",
       "YT04906-089.50   3/16/2021   22      CAT   41.0           902.0   FC  JAX\n",
       "YT04906-089.50   3/16/2021   22      CAT   41.0           902.0   FC  JAX\n",
       "YT04906-089.50   3/16/2021   22      CAT   41.0           902.0   FC  JAX\n",
       "...                    ...  ...      ...    ...             ...  ...  ...\n",
       "YT50972-113.50  11/29/2021   40       PR   17.0           680.0   FC  JAX\n",
       "YT50972-113.50  11/29/2021   40       PR   17.0           680.0   FC  JAX\n",
       "YT50972-113.50  11/29/2021   40       PR   17.0           680.0   FC  JAX\n",
       "YT50972-113.50  11/29/2021   40       PR   17.0           680.0   FC  JAX\n",
       "YT50972-113.50  11/29/2021   40       PR   17.0           680.0   FC  JAX\n",
       "\n",
       "[4584 rows x 7 columns]"
      ]
     },
     "execution_count": 19,
     "metadata": {},
     "output_type": "execute_result"
    }
   ],
   "source": [
    "# New data frame with deleted Comment column\n",
    "final_jax_fc = total_jax_fc.drop([\"Comment\"], axis = 1)\n",
    "final_jax_fc"
   ]
  },
  {
   "cell_type": "code",
   "execution_count": 20,
   "metadata": {},
   "outputs": [
    {
     "data": {
      "text/plain": [
       "Date              4584\n",
       "Qty               4584\n",
       "Customer          4452\n",
       "Price             4452\n",
       "Extended Price    4452\n",
       "Type              4584\n",
       "Org               4584\n",
       "dtype: int64"
      ]
     },
     "execution_count": 20,
     "metadata": {},
     "output_type": "execute_result"
    }
   ],
   "source": [
    "# Check total count against resource file to ensure data is correct\n",
    "final_jax_fc.count()"
   ]
  },
  {
   "cell_type": "code",
   "execution_count": 21,
   "metadata": {},
   "outputs": [
    {
     "data": {
      "text/html": [
       "<div>\n",
       "<style scoped>\n",
       "    .dataframe tbody tr th:only-of-type {\n",
       "        vertical-align: middle;\n",
       "    }\n",
       "\n",
       "    .dataframe tbody tr th {\n",
       "        vertical-align: top;\n",
       "    }\n",
       "\n",
       "    .dataframe thead th {\n",
       "        text-align: right;\n",
       "    }\n",
       "</style>\n",
       "<table border=\"1\" class=\"dataframe\">\n",
       "  <thead>\n",
       "    <tr style=\"text-align: right;\">\n",
       "      <th></th>\n",
       "      <th>Date</th>\n",
       "      <th>Qty</th>\n",
       "      <th>Customer</th>\n",
       "      <th>Price</th>\n",
       "      <th>Extended Price</th>\n",
       "      <th>Type</th>\n",
       "      <th>Org</th>\n",
       "    </tr>\n",
       "    <tr>\n",
       "      <th>Item</th>\n",
       "      <th></th>\n",
       "      <th></th>\n",
       "      <th></th>\n",
       "      <th></th>\n",
       "      <th></th>\n",
       "      <th></th>\n",
       "      <th></th>\n",
       "    </tr>\n",
       "  </thead>\n",
       "  <tbody>\n",
       "    <tr>\n",
       "      <th>YT04906-089.50</th>\n",
       "      <td>10/26/2021</td>\n",
       "      <td>37</td>\n",
       "      <td>CAT</td>\n",
       "      <td>41.0</td>\n",
       "      <td>1517.0</td>\n",
       "      <td>FC</td>\n",
       "      <td>JAX</td>\n",
       "    </tr>\n",
       "    <tr>\n",
       "      <th>YT04906-089.50</th>\n",
       "      <td>10/26/2021</td>\n",
       "      <td>37</td>\n",
       "      <td>CAT</td>\n",
       "      <td>41.0</td>\n",
       "      <td>1517.0</td>\n",
       "      <td>FC</td>\n",
       "      <td>JAX</td>\n",
       "    </tr>\n",
       "    <tr>\n",
       "      <th>YT04906-089.50</th>\n",
       "      <td>10/26/2021</td>\n",
       "      <td>37</td>\n",
       "      <td>CAT</td>\n",
       "      <td>41.0</td>\n",
       "      <td>1517.0</td>\n",
       "      <td>FC</td>\n",
       "      <td>JAX</td>\n",
       "    </tr>\n",
       "    <tr>\n",
       "      <th>YT04906-089.50</th>\n",
       "      <td>10/26/2021</td>\n",
       "      <td>37</td>\n",
       "      <td>CAT</td>\n",
       "      <td>41.0</td>\n",
       "      <td>1517.0</td>\n",
       "      <td>FC</td>\n",
       "      <td>JAX</td>\n",
       "    </tr>\n",
       "    <tr>\n",
       "      <th>YT04906-089.50</th>\n",
       "      <td>10/26/2021</td>\n",
       "      <td>37</td>\n",
       "      <td>CAT</td>\n",
       "      <td>41.0</td>\n",
       "      <td>1517.0</td>\n",
       "      <td>FC</td>\n",
       "      <td>JAX</td>\n",
       "    </tr>\n",
       "  </tbody>\n",
       "</table>\n",
       "</div>"
      ],
      "text/plain": [
       "                      Date  Qty Customer  Price  Extended Price Type  Org\n",
       "Item                                                                     \n",
       "YT04906-089.50  10/26/2021   37      CAT   41.0          1517.0   FC  JAX\n",
       "YT04906-089.50  10/26/2021   37      CAT   41.0          1517.0   FC  JAX\n",
       "YT04906-089.50  10/26/2021   37      CAT   41.0          1517.0   FC  JAX\n",
       "YT04906-089.50  10/26/2021   37      CAT   41.0          1517.0   FC  JAX\n",
       "YT04906-089.50  10/26/2021   37      CAT   41.0          1517.0   FC  JAX"
      ]
     },
     "execution_count": 21,
     "metadata": {},
     "output_type": "execute_result"
    }
   ],
   "source": [
    "# Sort by Date, then Item \n",
    "final_jax_fc = final_jax_fc.sort_values([\"Item\", \"Date\"])\n",
    "final_jax_fc.head()"
   ]
  },
  {
   "cell_type": "code",
   "execution_count": 22,
   "metadata": {},
   "outputs": [],
   "source": [
    "# Reorder columns\n",
    "#final_jax_fc = final_jax_fc[[\"Date\", \"Qty\", \"Org\", \"Type\"]]\n",
    "#final_jax_fc.head()"
   ]
  },
  {
   "cell_type": "code",
   "execution_count": 23,
   "metadata": {},
   "outputs": [],
   "source": [
    "# Save file to csv\n",
    "final_jax_fc.to_csv(\"output_data/final_jax_fc.csv\")"
   ]
  },
  {
   "cell_type": "code",
   "execution_count": 24,
   "metadata": {},
   "outputs": [],
   "source": [
    "# Save to Excel\n",
    "final_jax_fc.to_excel(\"output_data/final_jax_fc.xlsx\")"
   ]
  },
  {
   "cell_type": "code",
   "execution_count": null,
   "metadata": {},
   "outputs": [],
   "source": []
  },
  {
   "cell_type": "code",
   "execution_count": null,
   "metadata": {},
   "outputs": [],
   "source": []
  },
  {
   "cell_type": "markdown",
   "metadata": {},
   "source": [
    "## Lex forecast clean up"
   ]
  },
  {
   "cell_type": "code",
   "execution_count": null,
   "metadata": {},
   "outputs": [],
   "source": [
    "# Load lex fc file\n",
    "lex_fc_file = \"Resources/LEX FC.csv\"\n",
    "\n",
    "# Read csv file into DataFrame, set Item as index\n",
    "#lex_fc = pd.read_csv(lex_fc_file, index_col = \"Item\", parse_dates=[\"Date\"])\n",
    "lex_fc = pd.read_csv(lex_fc_file, index_col = \"Item\")\n",
    "lex_fc.head()"
   ]
  },
  {
   "cell_type": "code",
   "execution_count": null,
   "metadata": {},
   "outputs": [],
   "source": [
    "# Remove extra columns \n",
    "lex_fc = lex_fc[[\"Date\", \"Current\", \"Comment\"]]\n",
    "lex_fc.head()"
   ]
  },
  {
   "cell_type": "code",
   "execution_count": null,
   "metadata": {},
   "outputs": [],
   "source": [
    "# New data frame with split value columns for Comment column \n",
    "new2 = lex_fc[\"Comment\"].str.split(\" \", n = 1, expand = True) \n",
    "new2.head()"
   ]
  },
  {
   "cell_type": "code",
   "execution_count": null,
   "metadata": {},
   "outputs": [],
   "source": [
    "# Make separate Customer column from new data frame \n",
    "new2[\"Customer\"]= new2[0] \n",
    "new2"
   ]
  },
  {
   "cell_type": "code",
   "execution_count": null,
   "metadata": {},
   "outputs": [],
   "source": [
    "# Make separate Price column from new data frame \n",
    "new2[\"Price\"]= new2[1] \n",
    "new2"
   ]
  },
  {
   "cell_type": "code",
   "execution_count": null,
   "metadata": {},
   "outputs": [],
   "source": [
    "# Dropping 0 and 1 columns from new data frame\n",
    "new2.drop(columns =[0, 1], inplace = True)\n",
    "new2"
   ]
  },
  {
   "cell_type": "markdown",
   "metadata": {},
   "source": [
    "## Issue starts here..."
   ]
  },
  {
   "cell_type": "code",
   "execution_count": null,
   "metadata": {},
   "outputs": [],
   "source": [
    "# Merge lex_fc and new data frames\n",
    "total_lex_fc = pd.merge(lex_fc, new2, on=\"Item\")\n",
    "total_lex_fc"
   ]
  },
  {
   "cell_type": "code",
   "execution_count": null,
   "metadata": {},
   "outputs": [],
   "source": [
    "# Change Current to Qty\n",
    "total_lex_fc = total_lex_fc.rename(columns = {\"Current\": \"Qty\"})\n",
    "total_lex_fc.head()"
   ]
  },
  {
   "cell_type": "code",
   "execution_count": null,
   "metadata": {},
   "outputs": [],
   "source": [
    "# Remove Qty 0\n",
    "total_lex_fc = total_lex_fc[total_lex_fc[\"Qty\"] != 0]\n",
    "total_lex_fc.head()"
   ]
  },
  {
   "cell_type": "code",
   "execution_count": null,
   "metadata": {},
   "outputs": [],
   "source": [
    "# Check data types\n",
    "total_lex_fc.dtypes"
   ]
  },
  {
   "cell_type": "code",
   "execution_count": null,
   "metadata": {},
   "outputs": [],
   "source": [
    "# Change Price data type from object to float\n",
    "#total_lex_fc['Price'] = total_lex_fc['Price'].astype(float)\n",
    "#total_lex_fc"
   ]
  },
  {
   "cell_type": "code",
   "execution_count": null,
   "metadata": {},
   "outputs": [],
   "source": [
    "# Recheck data types\n",
    "total_lex_fc.dtypes"
   ]
  },
  {
   "cell_type": "code",
   "execution_count": null,
   "metadata": {},
   "outputs": [],
   "source": [
    "# Check total count against resource file to ensure data is correct\n",
    "total_lex_fc.count()"
   ]
  },
  {
   "cell_type": "code",
   "execution_count": null,
   "metadata": {},
   "outputs": [],
   "source": []
  },
  {
   "cell_type": "code",
   "execution_count": null,
   "metadata": {},
   "outputs": [],
   "source": []
  },
  {
   "cell_type": "code",
   "execution_count": null,
   "metadata": {},
   "outputs": [],
   "source": []
  },
  {
   "cell_type": "code",
   "execution_count": null,
   "metadata": {},
   "outputs": [],
   "source": []
  },
  {
   "cell_type": "code",
   "execution_count": null,
   "metadata": {},
   "outputs": [],
   "source": [
    "# Rename Current to Open Qty and Date to Schedule Date to match open orders\n",
    "lex_fc = lex_fc.rename(columns = {\"Current\": \"Qty\"})\n",
    "lex_fc.head()"
   ]
  },
  {
   "cell_type": "code",
   "execution_count": null,
   "metadata": {},
   "outputs": [],
   "source": [
    "# Add columns Customer, PC, Price, Extended Price, Org, Type\n",
    "# Add column ORG, TYPE\n",
    "#lex_fc[\"Customer\"] = None\n",
    "#lex_fc[\"PC\"] = None\n",
    "#lex_fc[\"Price\"] = None\n",
    "#lex_fc[\"Extended Price\"] = None\n",
    "#lex_fc[\"Org\"] = \"LEX\"\n",
    "\n",
    "# Add column TYPE\n",
    "lex_fc[\"Type\"] = \"FC\"\n",
    "lex_fc.head()"
   ]
  },
  {
   "cell_type": "code",
   "execution_count": null,
   "metadata": {},
   "outputs": [],
   "source": [
    "# Reorder columns\n",
    "#lex_fc = lex_fc[[\"Date\", \"Qty\", \"Customer\", \"PC\", \"Price\", \"Extended Price\", \"Org\", \"Type\"]]\n",
    "#lex_fc.head()"
   ]
  },
  {
   "cell_type": "code",
   "execution_count": null,
   "metadata": {},
   "outputs": [],
   "source": [
    "# Remove Open Qty 0\n",
    "lex_fc = lex_fc[lex_fc[\"Qty\"] != 0]\n",
    "lex_fc.head()"
   ]
  },
  {
   "cell_type": "code",
   "execution_count": null,
   "metadata": {},
   "outputs": [],
   "source": [
    "# Check data types\n",
    "lex_fc.dtypes"
   ]
  },
  {
   "cell_type": "code",
   "execution_count": null,
   "metadata": {},
   "outputs": [],
   "source": [
    "# Filter dates before 12/31/2020\n",
    "#updated_lex_fc= lex_fc.loc[lex_fc[\"Date\"] <= \"12-31-2020\"]\n",
    "#updated_lex_fc"
   ]
  },
  {
   "cell_type": "code",
   "execution_count": null,
   "metadata": {},
   "outputs": [],
   "source": [
    "# Filter dates to end on 12/31/2020\n",
    "#end_date = \"12/31/2020\"\n",
    "#lex_fc = (lex_fc['Date']>= end_date )\n",
    "#lex_fc"
   ]
  },
  {
   "cell_type": "code",
   "execution_count": null,
   "metadata": {},
   "outputs": [],
   "source": [
    "#Sort by Schedule Date, then Item \n",
    "lex_fc = lex_fc.sort_values([\"Item\", \"Date\"])\n",
    "lex_fc"
   ]
  },
  {
   "cell_type": "code",
   "execution_count": null,
   "metadata": {},
   "outputs": [],
   "source": [
    "#Check total count against resource file to ensure data is correct\n",
    "lex_fc.count()"
   ]
  },
  {
   "cell_type": "code",
   "execution_count": null,
   "metadata": {},
   "outputs": [],
   "source": [
    "# Save file to csv\n",
    "lex_fc.to_csv(\"output_data/lex_fc.csv\")"
   ]
  },
  {
   "cell_type": "code",
   "execution_count": null,
   "metadata": {},
   "outputs": [],
   "source": [
    "# Save to Excel\n",
    "#lex_fc.to_excel(\"output_data/lex_fc.xlsx\")"
   ]
  },
  {
   "cell_type": "markdown",
   "metadata": {},
   "source": [
    "## Merge Jax forecast and Lex forecast"
   ]
  },
  {
   "cell_type": "code",
   "execution_count": null,
   "metadata": {},
   "outputs": [],
   "source": [
    "# Merge jax_fc and lex_fc\n",
    "both = [jax_fc, lex_fc]\n",
    "total_fc = pd.concat(both)\n",
    "total_fc.head()"
   ]
  },
  {
   "cell_type": "code",
   "execution_count": null,
   "metadata": {},
   "outputs": [],
   "source": [
    "# Check count against jax plus lex fc counts\n",
    "total_fc.count()"
   ]
  },
  {
   "cell_type": "code",
   "execution_count": null,
   "metadata": {},
   "outputs": [],
   "source": [
    "# Save file to csv\n",
    "total_fc.to_csv(\"output_data/total_fc.csv\")"
   ]
  },
  {
   "cell_type": "markdown",
   "metadata": {},
   "source": [
    "## Merge total_fc file with LOOKUP file"
   ]
  },
  {
   "cell_type": "code",
   "execution_count": null,
   "metadata": {},
   "outputs": [],
   "source": [
    "# Load lookup file\n",
    "lookup_file = \"Resources/LOOKUP.xlsx\"\n",
    "\n",
    "# Read excel file into DataFrame, set Item as index\n",
    "#jax_fc = pd.read_csv(jax_fc_file, index_col = \"Item\", parse_dates=[\"Date\"])\n",
    "lookup = pd.read_excel(lookup_file, index_col = \"Item\")\n",
    "lookup.head()"
   ]
  },
  {
   "cell_type": "code",
   "execution_count": null,
   "metadata": {},
   "outputs": [],
   "source": [
    "#Reorder columns\n",
    "lookup = lookup[[\"Customer\", \"PC\", \"Price\", \"Org\"]]\n",
    "lookup.head()"
   ]
  },
  {
   "cell_type": "code",
   "execution_count": null,
   "metadata": {},
   "outputs": [],
   "source": [
    "# Merge total_fc and lookup files\n",
    "complete_fc = pd.merge(total_fc, lookup, on = \"Item\")\n",
    "complete_fc\n",
    "\n",
    "# Important note:\n",
    "# Check total number of rows on complete_fc should equal to jax_fc plus lex_fc"
   ]
  },
  {
   "cell_type": "code",
   "execution_count": null,
   "metadata": {},
   "outputs": [],
   "source": [
    "# Add extended price column and populate with Price * Qty\n",
    "complete_fc[\"Extended Price\"] = complete_fc.Price * complete_fc.Qty\n",
    "complete_fc"
   ]
  },
  {
   "cell_type": "code",
   "execution_count": null,
   "metadata": {},
   "outputs": [],
   "source": [
    "# Reorder columns to match sales order columns\n",
    "complete_fc = complete_fc[[\"Date\", \"Qty\", \"Customer\", \"PC\", \"Price\", \"Extended Price\", \"Org\", \"Type\"]]\n",
    "complete_fc"
   ]
  },
  {
   "cell_type": "code",
   "execution_count": null,
   "metadata": {},
   "outputs": [],
   "source": [
    "# Check row count again\n",
    "complete_fc.count()"
   ]
  },
  {
   "cell_type": "code",
   "execution_count": null,
   "metadata": {},
   "outputs": [],
   "source": [
    "# Save file to csv\n",
    "complete_fc.to_csv(\"output_data/complete_fc.csv\")"
   ]
  },
  {
   "cell_type": "markdown",
   "metadata": {},
   "source": [
    "## Jax open orders clean up"
   ]
  },
  {
   "cell_type": "code",
   "execution_count": null,
   "metadata": {},
   "outputs": [],
   "source": [
    "# Load jax so file\n",
    "jax_so_file = \"Resources/JAX OPEN ORDERS.csv\"\n",
    "\n",
    "# Read csv file into DataFrame, set Item as index\n",
    "jax_so = pd.read_csv(jax_so_file, index_col = \"Item\", encoding = \"ISO-8859–1\")\n",
    "jax_so.head()"
   ]
  },
  {
   "cell_type": "code",
   "execution_count": null,
   "metadata": {},
   "outputs": [],
   "source": [
    "# List of columns\n",
    "list(jax_so.columns)"
   ]
  },
  {
   "cell_type": "code",
   "execution_count": null,
   "metadata": {},
   "outputs": [],
   "source": [
    "# Narrow down columns \n",
    "jax_so = jax_so[[\"Schedule Date\", \"Open Qty\", \"Customer Name\", \"Planner\", \"Price\", \"Extended Price\"]]\n",
    "jax_so.head()"
   ]
  },
  {
   "cell_type": "code",
   "execution_count": null,
   "metadata": {},
   "outputs": [],
   "source": [
    "# Rename Open Qty to Qty and Date to Schedule Date to match open orders\n",
    "jax_so = jax_so.rename(columns = { \"Schedule Date\" : \"Date\",\n",
    "                                  \"Open Qty\": \"Qty\", \n",
    "                                  \"Customer Name\": \"Customer\",\n",
    "                                  \"Planner\": \"PC\",\n",
    "                                 })\n",
    "jax_so.head()"
   ]
  },
  {
   "cell_type": "code",
   "execution_count": null,
   "metadata": {},
   "outputs": [],
   "source": [
    "# Add column ORG, TYPE\n",
    "jax_so[\"Org\"] = \"JAX\"\n",
    "jax_so[\"Type\"] = \"SO\"\n",
    "jax_so.head()"
   ]
  },
  {
   "cell_type": "code",
   "execution_count": null,
   "metadata": {},
   "outputs": [],
   "source": [
    "# Remove buy parts by planner code\n",
    "#df.loc[(df['column_name'] >= A) & (df['column_name'] <= B)]\n",
    "#jax_so.loc[(jax_so[\"PC\"] == \"3\")]"
   ]
  },
  {
   "cell_type": "code",
   "execution_count": null,
   "metadata": {},
   "outputs": [],
   "source": [
    "# Check data types\n",
    "jax_so.dtypes"
   ]
  },
  {
   "cell_type": "code",
   "execution_count": null,
   "metadata": {},
   "outputs": [],
   "source": [
    "# Check count\n",
    "jax_so.count()"
   ]
  },
  {
   "cell_type": "code",
   "execution_count": null,
   "metadata": {},
   "outputs": [],
   "source": [
    "# Save file to csv\n",
    "jax_so.to_csv(\"output_data/jax_so.csv\", date_format='%Y-%m-%d')"
   ]
  },
  {
   "cell_type": "code",
   "execution_count": null,
   "metadata": {},
   "outputs": [],
   "source": [
    "# Save to Excel\n",
    "#jax_so.to_excel(\"output_data/jax_so.xlsx\")"
   ]
  },
  {
   "cell_type": "markdown",
   "metadata": {},
   "source": [
    "## Lex open orders clean up"
   ]
  },
  {
   "cell_type": "code",
   "execution_count": null,
   "metadata": {},
   "outputs": [],
   "source": [
    "# Load lex so file\n",
    "lex_so_file = \"Resources/LEX OPEN ORDERS.csv\"\n",
    "\n",
    "# Read csv file into DataFrame, set Item as index\n",
    "lex_so = pd.read_csv(lex_so_file, index_col = \"Item\", encoding = \"ISO-8859–1\")\n",
    "lex_so.head()"
   ]
  },
  {
   "cell_type": "code",
   "execution_count": null,
   "metadata": {},
   "outputs": [],
   "source": [
    "# List of columns\n",
    "list(lex_so.columns)"
   ]
  },
  {
   "cell_type": "code",
   "execution_count": null,
   "metadata": {},
   "outputs": [],
   "source": [
    "# Narrow down columns \n",
    "lex_so = lex_so[[\"Schedule Date\", \"Open Qty\", \"Customer Name\", \"Planner\", \"Price\", \"Extended Price\"]]\n",
    "lex_so.head()"
   ]
  },
  {
   "cell_type": "code",
   "execution_count": null,
   "metadata": {},
   "outputs": [],
   "source": [
    "# Rename Open Qty to Qty and Date to Schedule Date to match open orders\n",
    "lex_so = lex_so.rename(columns = { \"Schedule Date\" : \"Date\",\n",
    "                                  \"Open Qty\": \"Qty\", \n",
    "                                  \"Customer Name\": \"Customer\",\n",
    "                                  \"Planner\": \"PC\",\n",
    "                                 })\n",
    "lex_so.head()"
   ]
  },
  {
   "cell_type": "code",
   "execution_count": null,
   "metadata": {},
   "outputs": [],
   "source": [
    "# Add column ORG, TYPE\n",
    "lex_so[\"Org\"] = \"LEX\"\n",
    "lex_so[\"Type\"] = \"SO\"\n",
    "lex_so.head()"
   ]
  },
  {
   "cell_type": "code",
   "execution_count": null,
   "metadata": {},
   "outputs": [],
   "source": [
    "# Remove buy parts by planner code\n",
    "#lex_so.loc[(lex_so[\"PC\"] == \"5\")]"
   ]
  },
  {
   "cell_type": "code",
   "execution_count": null,
   "metadata": {},
   "outputs": [],
   "source": [
    "lex_so.dtypes"
   ]
  },
  {
   "cell_type": "code",
   "execution_count": null,
   "metadata": {},
   "outputs": [],
   "source": [
    "# Check count\n",
    "lex_so.count()"
   ]
  },
  {
   "cell_type": "code",
   "execution_count": null,
   "metadata": {},
   "outputs": [],
   "source": [
    "# Save file to csv\n",
    "lex_so.to_csv(\"output_data/lex_so.csv\", date_format='%Y-%m-%d')"
   ]
  },
  {
   "cell_type": "code",
   "execution_count": null,
   "metadata": {},
   "outputs": [],
   "source": [
    "# Save to Excel\n",
    "#lex_so.to_excel(\"output_data/lex_so.xlsx\")"
   ]
  },
  {
   "cell_type": "markdown",
   "metadata": {},
   "source": [
    "## Merge Jax open orders and Lex open orders"
   ]
  },
  {
   "cell_type": "code",
   "execution_count": null,
   "metadata": {},
   "outputs": [],
   "source": [
    "# Merge jax_so and lex_so\n",
    "# Use pd.concat to add one file to the other instead of actual merging\n",
    "both = [jax_so, lex_so]\n",
    "total_so = pd.concat(both)\n",
    "total_so.head()"
   ]
  },
  {
   "cell_type": "code",
   "execution_count": null,
   "metadata": {},
   "outputs": [],
   "source": [
    "# Check count\n",
    "total_so.count()"
   ]
  },
  {
   "cell_type": "code",
   "execution_count": null,
   "metadata": {},
   "outputs": [],
   "source": [
    "# Save file to csv\n",
    "total_so.to_csv(\"output_data/total_so.csv\")"
   ]
  },
  {
   "cell_type": "markdown",
   "metadata": {},
   "source": [
    "## Merge complete_fc file with total_so file"
   ]
  },
  {
   "cell_type": "code",
   "execution_count": null,
   "metadata": {},
   "outputs": [],
   "source": [
    "# Merge complete_fc and total_so files\n",
    "#complete_fc_so = pd.merge(complete_fc, total_so, on = \"Item\")\n",
    "#complete_fc_so\n",
    "\n",
    "# Important note:\n",
    "# Check total number of rows on complete_fc should equal to jax_fc plus lex_fc"
   ]
  },
  {
   "cell_type": "code",
   "execution_count": null,
   "metadata": {},
   "outputs": [],
   "source": [
    "# Merge complete_fc and total_so files\n",
    "# Use pd.concat to add one file to the other instead of actual merging\n",
    "both_files = [complete_fc, total_so]\n",
    "complete_fc_so = pd.concat(both)\n",
    "complete_fc_so"
   ]
  },
  {
   "cell_type": "code",
   "execution_count": null,
   "metadata": {},
   "outputs": [],
   "source": [
    "# Save file to csv\n",
    "complete_fc_so.to_csv(\"output_data/complete_fc_so.csv\")"
   ]
  },
  {
   "cell_type": "markdown",
   "metadata": {},
   "source": [
    "## Merge complete_fc_so file with LOOKUP file\n",
    "## Add eq units to complete_fc_so file"
   ]
  },
  {
   "cell_type": "code",
   "execution_count": null,
   "metadata": {},
   "outputs": [],
   "source": []
  }
 ],
 "metadata": {
  "kernelspec": {
   "display_name": "Python 3",
   "language": "python",
   "name": "python3"
  },
  "language_info": {
   "codemirror_mode": {
    "name": "ipython",
    "version": 3
   },
   "file_extension": ".py",
   "mimetype": "text/x-python",
   "name": "python",
   "nbconvert_exporter": "python",
   "pygments_lexer": "ipython3",
   "version": "3.7.6"
  }
 },
 "nbformat": 4,
 "nbformat_minor": 4
}
